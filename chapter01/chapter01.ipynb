{
 "cells": [
  {
   "cell_type": "code",
   "execution_count": 3,
   "metadata": {
    "collapsed": false
   },
   "outputs": [
    {
     "name": "stdout",
     "output_type": "stream",
     "text": [
      "desserts\n"
     ]
    }
   ],
   "source": [
    "'''\n",
    "00. 文字列の逆順\n",
    "文字列\"stressed\"の文字を逆に（末尾から先頭に向かって）並べた文字列を得よ．\n",
    "'''\n",
    "\n",
    "string = 'stressed'\n",
    "print(string[::-1])"
   ]
  },
  {
   "cell_type": "code",
   "execution_count": 4,
   "metadata": {
    "collapsed": false
   },
   "outputs": [
    {
     "name": "stdout",
     "output_type": "stream",
     "text": [
      "パトカー\n"
     ]
    }
   ],
   "source": [
    "'''\n",
    "01. 「パタトクカシーー」\n",
    "「パタトクカシーー」という文字列の1,3,5,7文字目を取り出して連結した文字列を得よ．\n",
    "'''\n",
    "\n",
    "string = 'パタトクカシーー'\n",
    "print(string[::2])"
   ]
  },
  {
   "cell_type": "code",
   "execution_count": 13,
   "metadata": {
    "collapsed": false
   },
   "outputs": [
    {
     "name": "stdout",
     "output_type": "stream",
     "text": [
      "パタトクカシーー\n"
     ]
    }
   ],
   "source": [
    "'''\n",
    "02. 「パトカー」＋「タクシー」＝「パタトクカシーー」\n",
    "「パトカー」＋「タクシー」の文字を先頭から交互に連結して文字列「パタトクカシーー」を得よ．\n",
    "'''\n",
    "\n",
    "string_1 = 'パトカー'\n",
    "string_2 = 'タクシー'\n",
    "string_3 = ''\n",
    "\n",
    "for (a, b) in zip(string_1, string_2):\n",
    "    string_3 += ''.join(a+b)\n",
    "    \n",
    "print(string_3)"
   ]
  },
  {
   "cell_type": "code",
   "execution_count": 4,
   "metadata": {
    "collapsed": false
   },
   "outputs": [
    {
     "name": "stdout",
     "output_type": "stream",
     "text": [
      "[3, 1, 4, 1, 5, 9, 2, 6, 5, 3, 5, 8, 9, 7, 9]\n"
     ]
    }
   ],
   "source": [
    "'''\n",
    "03. 円周率\n",
    "\"Now I need a drink, alcoholic of course, after the heavy lectures involving quantum mechanics.\"\n",
    "という文を単語に分解し，各単語の（アルファベットの）文字数を先頭から出現順に並べたリストを作成せよ．\n",
    "'''\n",
    "\n",
    "import re\n",
    "\n",
    "sentence = 'Now I need a drink, alcoholic of course, after the heavy lectures involving quantum mechanics.'\n",
    "pattern = re.compile('[.,]')\n",
    "\n",
    "words = sentence.split(' ')\n",
    "chars = []\n",
    "for w in words:\n",
    "    w = pattern.sub('',w)\n",
    "    chars.append(len(w))\n",
    "\n",
    "print(chars)"
   ]
  },
  {
   "cell_type": "code",
   "execution_count": 43,
   "metadata": {
    "collapsed": false
   },
   "outputs": [
    {
     "name": "stdout",
     "output_type": "stream",
     "text": [
      "{'Ca': 20, 'He': 2, 'F': 9, 'Mi': 12, 'Al': 13, 'O': 8, 'Ar': 18, 'Na': 11, 'K': 19, 'C': 6, 'Si': 14, 'N': 7, 'Li': 3, 'Cl': 17, 'P': 15, 'S': 16, 'Be': 4, 'B': 5, 'H': 1, 'Ne': 10}\n"
     ]
    }
   ],
   "source": [
    "'''\n",
    "04. 元素記号\n",
    "\"Hi He Lied Because Boron Could Not Oxidize Fluorine. New Nations Might Also Sign Peace Security Clause. Arthur King Can.\"\n",
    "という文を単語に分解し，1, 5, 6, 7, 8, 9, 15, 16, 19番目の単語は先頭の1文字，それ以外の単語は先頭に2文字を取り出し，\n",
    "取り出した文字列から単語の位置（先頭から何番目の単語か）への連想配列（辞書型もしくはマップ型）を作成せよ．\n",
    "'''\n",
    "\n",
    "import re\n",
    "\n",
    "sentence = \"Hi He Lied Because Boron Could Not Oxidize Fluorine. New Nations Might Also Sign Peace Security Clause. Arthur King Can.\"\n",
    "\n",
    "pattern = re.compile('[.,]')\n",
    "\n",
    "tokens = sentence.split(' ')\n",
    "words = []\n",
    "for w in tokens:\n",
    "    w = pattern.sub('',w)\n",
    "    words.append(w)\n",
    "\n",
    "d = {}\n",
    "for (i, w) in enumerate(words):\n",
    "    if i+1 in [1,5,6,7,8,9,15,16,19]:\n",
    "        index = 1\n",
    "    else:\n",
    "        index = 2\n",
    "    d[w[:index]] = i+1\n",
    "\n",
    "print(d)"
   ]
  },
  {
   "cell_type": "code",
   "execution_count": 6,
   "metadata": {
    "collapsed": false
   },
   "outputs": [
    {
     "name": "stdout",
     "output_type": "stream",
     "text": [
      "word: [('<S>', 'I'), ('I', 'am'), ('am', 'an'), ('an', 'NLPer'), ('NLPer', '</S>')]\n",
      "character: [('<S>', 'I'), ('I', ' '), (' ', 'a'), ('a', 'm'), ('m', ' '), (' ', 'a'), ('a', 'n'), ('n', ' '), (' ', 'N'), ('N', 'L'), ('L', 'P'), ('P', 'e'), ('e', 'r'), ('r', '</S>')]\n"
     ]
    }
   ],
   "source": [
    "'''\n",
    "05. n-gram\n",
    "与えられたシーケンス（文字列やリストなど）からn-gramを作る関数を作成せよ．\n",
    "この関数を用い，\"I am an NLPer\"という文から単語bi-gram，文字bi-gramを得よ．\n",
    "'''\n",
    "\n",
    "def n_gram(sequence, n, word=True):\n",
    "    start, end = '<S>', '</S>'\n",
    "    n_gram_list = []\n",
    "    \n",
    "    if word:\n",
    "        sequence = sequence.split()\n",
    "    else:\n",
    "        sequence = list(sequence)\n",
    "    \n",
    "    sequence.insert(0,start)\n",
    "    sequence.append(end)\n",
    "    \n",
    "    n_gram_list = list(zip(*[sequence[i:] for i in range(n)]))\n",
    "    \n",
    "    return n_gram_list\n",
    "\n",
    "if __name__ == \"__main__\":\n",
    "    string = \"I am an NLPer\"\n",
    "    print(\"word:\", n_gram(string, 2))\n",
    "    print(\"character:\", n_gram(string, 2, False))"
   ]
  },
  {
   "cell_type": "code",
   "execution_count": 3,
   "metadata": {
    "collapsed": false
   },
   "outputs": [
    {
     "name": "stdout",
     "output_type": "stream",
     "text": [
      "{('paragraph', '</S>'), ('<S>', 'paragraph'), ('<S>', 'paraparaparadise'), ('paraparaparadise', '</S>')}\n",
      "set()\n",
      "{('<S>', 'paraparaparadise'), ('paraparaparadise', '</S>')}\n",
      "\"se\" in X: False\n",
      "\"se\" in Y: False\n"
     ]
    }
   ],
   "source": [
    "'''\n",
    "06. 集合\n",
    "\"paraparaparadise\"と\"paragraph\"に含まれる文字bi-gramの集合を，それぞれ, XとYとして求め，XとYの和集合，積集合，差集合を求めよ．\n",
    "さらに，'se'というbi-gramがXおよびYに含まれるかどうかを調べよ．\n",
    "'''\n",
    "\n",
    "string_1 = 'paraparaparadise'\n",
    "string_2 = 'paragraph'\n",
    "\n",
    "X = set(n_gram(string_1,2,'char'))\n",
    "Y = set(n_gram(string_2,2,'char'))\n",
    "\n",
    "print(X|Y)\n",
    "print(X&Y)\n",
    "print(X-Y)\n",
    "\n",
    "print('\"se\" in X:',('s','e') in X) \n",
    "print('\"se\" in Y:',('s','e') in Y) "
   ]
  },
  {
   "cell_type": "code",
   "execution_count": 118,
   "metadata": {
    "collapsed": false
   },
   "outputs": [
    {
     "name": "stdout",
     "output_type": "stream",
     "text": [
      "12時の気温は22.4\n"
     ]
    }
   ],
   "source": [
    "'''\n",
    "07. テンプレートによる文生成\n",
    "引数x, y, zを受け取り「x時のyはz」という文字列を返す関数を実装せよ．\n",
    "さらに，x=12, y=\"気温\", z=22.4として，実行結果を確認せよ．\n",
    "'''\n",
    "\n",
    "def generate(x,y,z):\n",
    "    return '{}時の{}は{}'.format(x,y,z)\n",
    "\n",
    "if __name__ == \"__main__\":\n",
    "    print(generate(12,\"気温\",22.4))"
   ]
  },
  {
   "cell_type": "code",
   "execution_count": 114,
   "metadata": {
    "collapsed": false
   },
   "outputs": [
    {
     "name": "stdout",
     "output_type": "stream",
     "text": [
      "Original sentence:\tThis is a secret message.\n",
      "Encrypted sentence:\tTsrh rh z hvxivg nvhhztv.\n",
      "Decrypted sentence:\tThis is a secret message.\n"
     ]
    }
   ],
   "source": [
    "'''\n",
    "08. 暗号文\n",
    "与えられた文字列の各文字を，以下の仕様で変換する関数cipherを実装せよ．\n",
    "    英小文字ならば(219 - 文字コード)の文字に置換\n",
    "    その他の文字はそのまま出力\n",
    "この関数を用い，英語のメッセージを暗号化・復号化せよ．\n",
    "'''\n",
    "\n",
    "import re\n",
    "\n",
    "def cipher(string):\n",
    "    code = []\n",
    "    pattern = re.compile('[a-z]')\n",
    "    for c in string:\n",
    "        if pattern.match(c):\n",
    "            code.append(chr(219 - ord(c)))\n",
    "        else:\n",
    "            code.append(c)\n",
    "    return \"\".join(code)    \n",
    "\n",
    "if __name__ == \"__main__\":\n",
    "    string = 'This is a secret message.'\n",
    "    print('Original sentence:\\t{}'.format(string))\n",
    "    print('Encrypted sentence:\\t{}'.format(cipher(string)))\n",
    "    print('Decrypted sentence:\\t{}'.format(cipher(cipher(string))))"
   ]
  },
  {
   "cell_type": "code",
   "execution_count": 111,
   "metadata": {
    "collapsed": false
   },
   "outputs": [
    {
     "name": "stdout",
     "output_type": "stream",
     "text": [
      "I c'onuldt bveelie that I cluod aulltacy udntnserad what I was reaindg : the phamoneenl pewor of the hmuan mind .\n"
     ]
    }
   ],
   "source": [
    "'''\n",
    "09. Typoglycemia\n",
    "スペースで区切られた単語列に対して，各単語の先頭と末尾の文字は残し，それ以外の文字の順序をランダムに並び替えるプログラムを作成せよ．\n",
    "ただし，長さが４以下の単語は並び替えないこととする．\n",
    "適当な英語の文（例えば\"I couldn't believe that I could actually understand what I was reading : the phenomenal power of the human mind .\"）を与え，その実行結果を確認せよ．\n",
    "'''\n",
    "\n",
    "import random\n",
    "\n",
    "def shuffle(sentence):\n",
    "    output = []\n",
    "    for token in sentence.split():\n",
    "        if len(token) > 4:\n",
    "            word = []\n",
    "            inside = list(token[1:-1])       \n",
    "            random.shuffle(inside)\n",
    "            output.append(token[0] + ''.join(inside) + token[-1])\n",
    "        else:\n",
    "            output.append(token)\n",
    "    return ' '.join(output)\n",
    "    \n",
    "if __name__ == \"__main__\":    \n",
    "    sentence = \"I couldn't believe that I could actually understand what I was reading : the phenomenal power of the human mind .\"\n",
    "    print(shuffle(sentence))"
   ]
  },
  {
   "cell_type": "code",
   "execution_count": null,
   "metadata": {
    "collapsed": false
   },
   "outputs": [],
   "source": []
  },
  {
   "cell_type": "code",
   "execution_count": null,
   "metadata": {
    "collapsed": false
   },
   "outputs": [],
   "source": []
  },
  {
   "cell_type": "code",
   "execution_count": null,
   "metadata": {
    "collapsed": false
   },
   "outputs": [],
   "source": []
  },
  {
   "cell_type": "code",
   "execution_count": null,
   "metadata": {
    "collapsed": true
   },
   "outputs": [],
   "source": []
  }
 ],
 "metadata": {
  "kernelspec": {
   "display_name": "Python 3",
   "language": "python",
   "name": "python3"
  },
  "language_info": {
   "codemirror_mode": {
    "name": "ipython",
    "version": 3
   },
   "file_extension": ".py",
   "mimetype": "text/x-python",
   "name": "python",
   "nbconvert_exporter": "python",
   "pygments_lexer": "ipython3",
   "version": "3.5.2"
  }
 },
 "nbformat": 4,
 "nbformat_minor": 0
}
